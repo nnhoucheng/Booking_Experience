{
 "cells": [
  {
   "cell_type": "markdown",
   "metadata": {},
   "source": [
    "# Online Guesthouse Booking Experience\n",
    "\n",
    "**mentor:** ZiXia\n",
    "\n",
    "**author:** Cheng Hou"
   ]
  },
  {
   "cell_type": "markdown",
   "metadata": {},
   "source": [
    "---\n",
    "## Project Instruction\n",
    "\n",
    "This is a project to measure the online guesthouse booking experience\n",
    "as follows: a guest finds an available room (listing) that she likes, and she then contacts the host. There are three ways to send an inquiry - a contact, a booking request, or instant book - detailed at the bottom of this document. Upon receiving the inquiry, the host can then decide whether or not to say yes to the request (accept the request). However, the host may not accept a guest for many reasons. Some might be logistical, e.g. dates do not work in the calendar, and some may be more personal, e.g. the guest seems risky. Our goal is to help our guests maximize their likelihood of being accepted by the hosts they contact.\n",
    "\n",
    "Suppose we run an experiment where we require the guest to write a message that is at least 140 characters long to explain why he or she is interested in staying with the host, and we run this as a 50-50 experiment (50% in treatment, 50% in control). We then look at data on the contacts and bookings of users in the treatment group compared to the control group. We are interested in what happens to the experience of contacting and booking a place on Airbnb when the guest is required to write a message like this. We are also looking for suggestions for evaluating the future of this change. Should we launch the experiment to everyone or stop it? How would you explain the results and the decision to someone who was not highly technical?\n",
    "\n",
    "Using the (fabricated) experiment assignment and the contact and booking data attached, please provide analysis + write-up to answer these questions.\n",
    "\n",
    "### Reminder\n",
    "\n",
    "There are three ways to book a place:\n",
    "\n",
    "1. contact_me : The guests writes a message to the host to inquire about the listing. The host has the option to pre-approve the guest to book their place, or they can reject, or they can write a free text message with no explicit acceptance or rejection. If the host pre-approves, the guest can then go ahead and click to make the booking.\n",
    "2. book_it : The guest puts money down to book the place directly, but the host has to accept the reservation request. If the host accepts, the booking happens automatically. \n",
    "3. instant_book : The guest books the listing directly, without any need for the host to accept or reject actively (it is an auto-accept by the host)."
   ]
  },
  {
   "cell_type": "code",
   "execution_count": 1,
   "metadata": {
    "collapsed": true
   },
   "outputs": [],
   "source": [
    "import os\n",
    "import numpy as np\n",
    "import pandas as pd"
   ]
  },
  {
   "cell_type": "markdown",
   "metadata": {},
   "source": [
    "---\n",
    "## Data\n",
    "\n",
    "**Assignments** : contains a row for every time that a user gets assigned to an treatment group.\n",
    "* id_user : random id of the user. \n",
    "  \n",
    "* ab : The experimental group the user is assigned to. "
   ]
  },
  {
   "cell_type": "code",
   "execution_count": 8,
   "metadata": {},
   "outputs": [
    {
     "name": "stdout",
     "output_type": "stream",
     "text": [
      "There are 10000 records in orginal data.\n"
     ]
    },
    {
     "data": {
      "text/html": [
       "<div>\n",
       "<style>\n",
       "    .dataframe thead tr:only-child th {\n",
       "        text-align: right;\n",
       "    }\n",
       "\n",
       "    .dataframe thead th {\n",
       "        text-align: left;\n",
       "    }\n",
       "\n",
       "    .dataframe tbody tr th {\n",
       "        vertical-align: top;\n",
       "    }\n",
       "</style>\n",
       "<table border=\"1\" class=\"dataframe\">\n",
       "  <thead>\n",
       "    <tr style=\"text-align: right;\">\n",
       "      <th></th>\n",
       "      <th>id_user</th>\n",
       "      <th>ab</th>\n",
       "    </tr>\n",
       "  </thead>\n",
       "  <tbody>\n",
       "    <tr>\n",
       "      <th>0</th>\n",
       "      <td>f966752c-8533-48b2-af6f-8c6797d2b247</td>\n",
       "      <td>treatment</td>\n",
       "    </tr>\n",
       "    <tr>\n",
       "      <th>1</th>\n",
       "      <td>873f93fb-234c-4cfb-83c7-27ff0e582a8e</td>\n",
       "      <td>treatment</td>\n",
       "    </tr>\n",
       "    <tr>\n",
       "      <th>2</th>\n",
       "      <td>7308791e-04c3-416a-be2d-4188816decc2</td>\n",
       "      <td>control</td>\n",
       "    </tr>\n",
       "  </tbody>\n",
       "</table>\n",
       "</div>"
      ],
      "text/plain": [
       "                                id_user         ab\n",
       "0  f966752c-8533-48b2-af6f-8c6797d2b247  treatment\n",
       "1  873f93fb-234c-4cfb-83c7-27ff0e582a8e  treatment\n",
       "2  7308791e-04c3-416a-be2d-4188816decc2    control"
      ]
     },
     "execution_count": 8,
     "metadata": {},
     "output_type": "execute_result"
    }
   ],
   "source": [
    "assignments = pd.read_csv('takehome_assignments.csv')\n",
    "print('There are {} records in orginal data.'.format(len(assignments)))\n",
    "assignments.head(3)"
   ]
  },
  {
   "cell_type": "markdown",
   "metadata": {},
   "source": [
    "**Contacts** : contains a row for every time that a user makes an inquiry\n",
    "\n",
    "* id_guest : random id of the guest (user) making the inquiry. Can be linked to id_user.\n",
    "\n",
    "* id_host : random id of the host (user) of the listing to which the inquiry is made.\n",
    "\n",
    "* id_listing : random id of the listing to which the inquiry is made.\n",
    "\n",
    "* ts_interaction_first : UTC timestamp of the moment the inquiry is made.\n",
    "\n",
    "* ts_reply_at_first : UTC timestamp of the moment the host replies to the inquiry, if so. If missing, there is no reply.\n",
    "\n",
    "* ts_accepted_at_first : UTC timestamp of the moment the host accepts the inquiry, if so. If missing, there is no acceptance.\n",
    "\n",
    "* ts_booking_at : UTC timestamp of the moment the booking is made, if so. If missing, there is no booking.\n",
    "\n",
    "* dim_contact_channel_first : The contact channel through which the inquiry was made. One of {contact_me, book_it, instant_book}.\n",
    "\n",
    "* m_first_message_length : length of the message the guest sent the host, in characters. If missing then there was no message. "
   ]
  },
  {
   "cell_type": "code",
   "execution_count": 76,
   "metadata": {},
   "outputs": [
    {
     "name": "stdout",
     "output_type": "stream",
     "text": [
      "There are 10000 records in orginal data.\n"
     ]
    },
    {
     "data": {
      "text/html": [
       "<div>\n",
       "<style>\n",
       "    .dataframe thead tr:only-child th {\n",
       "        text-align: right;\n",
       "    }\n",
       "\n",
       "    .dataframe thead th {\n",
       "        text-align: left;\n",
       "    }\n",
       "\n",
       "    .dataframe tbody tr th {\n",
       "        vertical-align: top;\n",
       "    }\n",
       "</style>\n",
       "<table border=\"1\" class=\"dataframe\">\n",
       "  <thead>\n",
       "    <tr style=\"text-align: right;\">\n",
       "      <th></th>\n",
       "      <th>id_guest</th>\n",
       "      <th>id_host</th>\n",
       "      <th>id_listing</th>\n",
       "      <th>ts_interaction_first</th>\n",
       "      <th>ts_reply_at_first</th>\n",
       "      <th>ts_accepted_at_first</th>\n",
       "      <th>ts_booking_at</th>\n",
       "      <th>dim_contact_channel</th>\n",
       "      <th>m_first_message_length</th>\n",
       "    </tr>\n",
       "  </thead>\n",
       "  <tbody>\n",
       "    <tr>\n",
       "      <th>0</th>\n",
       "      <td>f966752c-8533-48b2-af6f-8c6797d2b247</td>\n",
       "      <td>4405ab66-1c68-449b-abd9-1ad1892a6c4d</td>\n",
       "      <td>fe07e0c4-c317-44bc-a82d-5b599a248049</td>\n",
       "      <td>2013-01-01 23:04:35</td>\n",
       "      <td>2013-01-03 23:15:23</td>\n",
       "      <td>NaT</td>\n",
       "      <td>NaT</td>\n",
       "      <td>contact_me</td>\n",
       "      <td>230.0</td>\n",
       "    </tr>\n",
       "    <tr>\n",
       "      <th>1</th>\n",
       "      <td>873f93fb-234c-4cfb-83c7-27ff0e582a8e</td>\n",
       "      <td>aa41b57b-e29f-4c95-bf27-48f27519e419</td>\n",
       "      <td>d47717da-315a-42c2-8888-9b7d4bea8829</td>\n",
       "      <td>2013-01-02 00:21:26</td>\n",
       "      <td>2013-01-07 23:38:31</td>\n",
       "      <td>NaT</td>\n",
       "      <td>NaT</td>\n",
       "      <td>contact_me</td>\n",
       "      <td>98.0</td>\n",
       "    </tr>\n",
       "    <tr>\n",
       "      <th>2</th>\n",
       "      <td>7308791e-04c3-416a-be2d-4188816decc2</td>\n",
       "      <td>8b118ba1-b439-493e-88c7-2c89a81cec1b</td>\n",
       "      <td>ac231804-951c-4fcb-a0e6-1a4aecbfb6ce</td>\n",
       "      <td>2013-01-02 02:30:19</td>\n",
       "      <td>2013-01-02 18:06:10</td>\n",
       "      <td>2013-01-02 18:06:10</td>\n",
       "      <td>NaT</td>\n",
       "      <td>contact_me</td>\n",
       "      <td>278.0</td>\n",
       "    </tr>\n",
       "  </tbody>\n",
       "</table>\n",
       "</div>"
      ],
      "text/plain": [
       "                               id_guest                               id_host  \\\n",
       "0  f966752c-8533-48b2-af6f-8c6797d2b247  4405ab66-1c68-449b-abd9-1ad1892a6c4d   \n",
       "1  873f93fb-234c-4cfb-83c7-27ff0e582a8e  aa41b57b-e29f-4c95-bf27-48f27519e419   \n",
       "2  7308791e-04c3-416a-be2d-4188816decc2  8b118ba1-b439-493e-88c7-2c89a81cec1b   \n",
       "\n",
       "                             id_listing ts_interaction_first  \\\n",
       "0  fe07e0c4-c317-44bc-a82d-5b599a248049  2013-01-01 23:04:35   \n",
       "1  d47717da-315a-42c2-8888-9b7d4bea8829  2013-01-02 00:21:26   \n",
       "2  ac231804-951c-4fcb-a0e6-1a4aecbfb6ce  2013-01-02 02:30:19   \n",
       "\n",
       "    ts_reply_at_first ts_accepted_at_first ts_booking_at dim_contact_channel  \\\n",
       "0 2013-01-03 23:15:23                  NaT           NaT          contact_me   \n",
       "1 2013-01-07 23:38:31                  NaT           NaT          contact_me   \n",
       "2 2013-01-02 18:06:10  2013-01-02 18:06:10           NaT          contact_me   \n",
       "\n",
       "   m_first_message_length  \n",
       "0                   230.0  \n",
       "1                    98.0  \n",
       "2                   278.0  "
      ]
     },
     "execution_count": 76,
     "metadata": {},
     "output_type": "execute_result"
    }
   ],
   "source": [
    "contacts = pd.read_csv('takehome_contacts.csv', \n",
    "                       parse_dates=['ts_interaction_first', 'ts_reply_at_first',\n",
    "                                    'ts_accepted_at_first', 'ts_booking_at'])\n",
    "NaT = pd._libs.tslib.NaTType\n",
    "print('There are {} records in orginal data.'.format(len(contacts)))\n",
    "contacts.head(3)"
   ]
  },
  {
   "cell_type": "code",
   "execution_count": 77,
   "metadata": {},
   "outputs": [
    {
     "data": {
      "text/plain": [
       "id_guest                          object\n",
       "id_host                           object\n",
       "id_listing                        object\n",
       "ts_interaction_first      datetime64[ns]\n",
       "ts_reply_at_first         datetime64[ns]\n",
       "ts_accepted_at_first      datetime64[ns]\n",
       "ts_booking_at             datetime64[ns]\n",
       "dim_contact_channel               object\n",
       "m_first_message_length           float64\n",
       "dtype: object"
      ]
     },
     "execution_count": 77,
     "metadata": {},
     "output_type": "execute_result"
    }
   ],
   "source": [
    "contacts.dtypes"
   ]
  },
  {
   "cell_type": "markdown",
   "metadata": {},
   "source": [
    "---\n",
    "## Data cleaning\n",
    "\n",
    "Drop **duplicted** assignments."
   ]
  },
  {
   "cell_type": "code",
   "execution_count": 36,
   "metadata": {},
   "outputs": [
    {
     "name": "stdout",
     "output_type": "stream",
     "text": [
      "9487\n"
     ]
    }
   ],
   "source": [
    "assign = assignments.drop_duplicates()\n",
    "print(len(assign))"
   ]
  },
  {
   "cell_type": "markdown",
   "metadata": {},
   "source": [
    "Find the **contradictory** assignments (Some users are assigned to both treatment and control group) and drop them."
   ]
  },
  {
   "cell_type": "code",
   "execution_count": 37,
   "metadata": {},
   "outputs": [
    {
     "data": {
      "text/plain": [
       "treatment    4352\n",
       "control      4349\n",
       "Name: ab, dtype: int64"
      ]
     },
     "execution_count": 37,
     "metadata": {},
     "output_type": "execute_result"
    }
   ],
   "source": [
    "contra_guest = assign.id_user[assign.id_user.duplicated()].tolist()\n",
    "assign = assign[~assign.id_user.isin(contra_guest)]\n",
    "assign.ab.value_counts()"
   ]
  },
  {
   "cell_type": "markdown",
   "metadata": {},
   "source": [
    "---\n",
    "## Analysis\n",
    "### The host accept-rate"
   ]
  },
  {
   "cell_type": "code",
   "execution_count": 38,
   "metadata": {
    "collapsed": true
   },
   "outputs": [],
   "source": [
    "guest_con = assign.id_user[assign.ab == 'control'].tolist()\n",
    "guest_tre = assign.id_user[assign.ab == 'treatment'].tolist()"
   ]
  },
  {
   "cell_type": "code",
   "execution_count": 118,
   "metadata": {
    "collapsed": true
   },
   "outputs": [],
   "source": [
    "con_accept = sum(np.array(contacts.id_guest.isin(guest_con)) & \n",
    "                 np.array(contacts.ts_accepted_at_first.apply(type) != NaT))\n",
    "con_failed = sum(np.array(contacts.id_guest.isin(guest_con)) & \n",
    "                 np.array(contacts.ts_accepted_at_first.apply(type) == NaT))\n",
    "tre_accept = sum(np.array(contacts.id_guest.isin(guest_tre)) & \n",
    "                 np.array(contacts.ts_accepted_at_first.apply(type) != NaT))\n",
    "tre_failed = sum(np.array(contacts.id_guest.isin(guest_tre)) & \n",
    "                 np.array(contacts.ts_accepted_at_first.apply(type) == NaT))"
   ]
  },
  {
   "cell_type": "code",
   "execution_count": 125,
   "metadata": {},
   "outputs": [
    {
     "data": {
      "text/html": [
       "<div>\n",
       "<style>\n",
       "    .dataframe thead tr:only-child th {\n",
       "        text-align: right;\n",
       "    }\n",
       "\n",
       "    .dataframe thead th {\n",
       "        text-align: left;\n",
       "    }\n",
       "\n",
       "    .dataframe tbody tr th {\n",
       "        vertical-align: top;\n",
       "    }\n",
       "</style>\n",
       "<table border=\"1\" class=\"dataframe\">\n",
       "  <thead>\n",
       "    <tr style=\"text-align: right;\">\n",
       "      <th></th>\n",
       "      <th>accepted</th>\n",
       "      <th>failed</th>\n",
       "      <th>accept_rate</th>\n",
       "    </tr>\n",
       "  </thead>\n",
       "  <tbody>\n",
       "    <tr>\n",
       "      <th>control</th>\n",
       "      <td>1595</td>\n",
       "      <td>2955</td>\n",
       "      <td>0.350549</td>\n",
       "    </tr>\n",
       "    <tr>\n",
       "      <th>treatment</th>\n",
       "      <td>1561</td>\n",
       "      <td>2993</td>\n",
       "      <td>0.342776</td>\n",
       "    </tr>\n",
       "  </tbody>\n",
       "</table>\n",
       "</div>"
      ],
      "text/plain": [
       "           accepted  failed  accept_rate\n",
       "control        1595    2955     0.350549\n",
       "treatment      1561    2993     0.342776"
      ]
     },
     "execution_count": 125,
     "metadata": {},
     "output_type": "execute_result"
    }
   ],
   "source": [
    "m = pd.DataFrame([[con_accept, con_failed, con_accept/(con_accept + con_failed)],\n",
    "                  [tre_accept, tre_failed, tre_accept/(tre_accept + tre_failed)]])\n",
    "m.columns = ['accepted','failed','accept_rate']\n",
    "m.index = ['control', 'treatment']\n",
    "m"
   ]
  },
  {
   "cell_type": "markdown",
   "metadata": {},
   "source": [
    "### The host accept rate in '*contact_me*' channel"
   ]
  },
  {
   "cell_type": "code",
   "execution_count": 120,
   "metadata": {
    "collapsed": true
   },
   "outputs": [],
   "source": [
    "contacts_me = contacts[contacts.dim_contact_channel == 'contact_me']"
   ]
  },
  {
   "cell_type": "code",
   "execution_count": 121,
   "metadata": {
    "collapsed": true
   },
   "outputs": [],
   "source": [
    "con_accept_me = sum(np.array(contacts_me.id_guest.isin(guest_con)) & \n",
    "                    np.array(contacts_me.ts_accepted_at_first.apply(type) != NaT))\n",
    "con_failed_me = sum(np.array(contacts_me.id_guest.isin(guest_con)) & \n",
    "                    np.array(contacts_me.ts_accepted_at_first.apply(type) == NaT))\n",
    "tre_accept_me = sum(np.array(contacts_me.id_guest.isin(guest_tre)) & \n",
    "                    np.array(contacts_me.ts_accepted_at_first.apply(type) != NaT))\n",
    "tre_failed_me = sum(np.array(contacts_me.id_guest.isin(guest_tre)) & \n",
    "                    np.array(contacts_me.ts_accepted_at_first.apply(type) == NaT))"
   ]
  },
  {
   "cell_type": "code",
   "execution_count": 126,
   "metadata": {},
   "outputs": [
    {
     "data": {
      "text/html": [
       "<div>\n",
       "<style>\n",
       "    .dataframe thead tr:only-child th {\n",
       "        text-align: right;\n",
       "    }\n",
       "\n",
       "    .dataframe thead th {\n",
       "        text-align: left;\n",
       "    }\n",
       "\n",
       "    .dataframe tbody tr th {\n",
       "        vertical-align: top;\n",
       "    }\n",
       "</style>\n",
       "<table border=\"1\" class=\"dataframe\">\n",
       "  <thead>\n",
       "    <tr style=\"text-align: right;\">\n",
       "      <th></th>\n",
       "      <th>accepted</th>\n",
       "      <th>failed</th>\n",
       "      <th>accept_rate</th>\n",
       "    </tr>\n",
       "  </thead>\n",
       "  <tbody>\n",
       "    <tr>\n",
       "      <th>control</th>\n",
       "      <td>1059</td>\n",
       "      <td>2589</td>\n",
       "      <td>0.290296</td>\n",
       "    </tr>\n",
       "    <tr>\n",
       "      <th>treatment</th>\n",
       "      <td>1042</td>\n",
       "      <td>2600</td>\n",
       "      <td>0.286107</td>\n",
       "    </tr>\n",
       "  </tbody>\n",
       "</table>\n",
       "</div>"
      ],
      "text/plain": [
       "           accepted  failed  accept_rate\n",
       "control        1059    2589     0.290296\n",
       "treatment      1042    2600     0.286107"
      ]
     },
     "execution_count": 126,
     "metadata": {},
     "output_type": "execute_result"
    }
   ],
   "source": [
    "m_me = pd.DataFrame([[con_accept_me, con_failed_me, con_accept_me/(con_accept_me + con_failed_me)],\n",
    "                     [tre_accept_me, tre_failed_me, tre_accept_me/(tre_accept_me + tre_failed_me)]])\n",
    "m_me.columns = ['accepted','failed','accept_rate']\n",
    "m_me.index = ['control', 'treatment']\n",
    "m_me"
   ]
  }
 ],
 "metadata": {
  "kernelspec": {
   "display_name": "Python 3",
   "language": "python",
   "name": "python3"
  },
  "language_info": {
   "codemirror_mode": {
    "name": "ipython",
    "version": 3
   },
   "file_extension": ".py",
   "mimetype": "text/x-python",
   "name": "python",
   "nbconvert_exporter": "python",
   "pygments_lexer": "ipython3",
   "version": "3.6.1"
  }
 },
 "nbformat": 4,
 "nbformat_minor": 2
}
